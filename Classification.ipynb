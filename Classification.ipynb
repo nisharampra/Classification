{
  "nbformat": 4,
  "nbformat_minor": 0,
  "metadata": {
    "colab": {
      "provenance": [],
      "authorship_tag": "ABX9TyM+rTW6aV11dezGCd6Dj9oj",
      "include_colab_link": true
    },
    "kernelspec": {
      "name": "python3",
      "display_name": "Python 3"
    },
    "language_info": {
      "name": "python"
    }
  },
  "cells": [
    {
      "cell_type": "markdown",
      "metadata": {
        "id": "view-in-github",
        "colab_type": "text"
      },
      "source": [
        "<a href=\"https://colab.research.google.com/github/nisharampra/Classification/blob/main/Classification.ipynb\" target=\"_parent\"><img src=\"https://colab.research.google.com/assets/colab-badge.svg\" alt=\"Open In Colab\"/></a>"
      ]
    },
    {
      "cell_type": "code",
      "execution_count": null,
      "metadata": {
        "colab": {
          "base_uri": "https://localhost:8080/"
        },
        "id": "DibgDR6J4Fvs",
        "outputId": "a8272bfa-6428-4c95-ac0e-16b21359f1ea"
      },
      "outputs": [
        {
          "output_type": "stream",
          "name": "stdout",
          "text": [
            "Accuracy of Gaussian Naive Bayes:  0.9333333333333333\n",
            "Precision of Gaussian Naive Bayes:  0.9352007469654529\n",
            "Recall of Gaussian Naive Bayes:  0.9333333333333333\n",
            "F1-Score of Gaussian Naive Bayes:  0.933615520282187\n",
            "Accuracy of Decision Tree Classifier:  0.9555555555555556\n",
            "Precision of Decision Tree Classifier:  0.9555555555555556\n",
            "Recall of Decision Tree Classifier:  0.9555555555555556\n",
            "F1-Score of Decision Tree Classifier:  0.9555555555555556\n",
            "Accuracy of Support Vector Machine:  1.0\n",
            "Precision of Support Vector Machine:  1.0\n",
            "Recall of Support Vector Machine:  1.0\n",
            "F1-Score of Support Vector Machine:  1.0\n"
          ]
        }
      ],
      "source": [
        "# Importing the required libraries\n",
        "import numpy as np\n",
        "import pandas as pd\n",
        "from sklearn.model_selection import train_test_split\n",
        "from sklearn.metrics import accuracy_score, precision_score, recall_score, f1_score\n",
        "from sklearn import datasets\n",
        "from sklearn import svm\n",
        "from sklearn.tree import DecisionTreeClassifier\n",
        "from sklearn.naive_bayes import GaussianNB\n",
        "\n",
        "# import the iris dataset\n",
        "iris = datasets.load_iris()\n",
        "X = iris.data\n",
        "y = iris.target\n",
        "\n",
        "# splitting X and y into training and testing sets\n",
        "X_train, X_test, y_train, y_test = train_test_split(\n",
        "\tX, y, test_size=0.3, random_state=1)\n",
        "\n",
        "# GAUSSIAN NAIVE BAYES\n",
        "gnb = GaussianNB()\n",
        "# train the model\n",
        "gnb.fit(X_train, y_train)\n",
        "# make predictions\n",
        "gnb_pred = gnb.predict(X_test)\n",
        "# print the accuracy\n",
        "print(\"Accuracy of Gaussian Naive Bayes: \",\n",
        "\taccuracy_score(y_test, gnb_pred))\n",
        "# print other performance metrics\n",
        "print(\"Precision of Gaussian Naive Bayes: \",\n",
        "\tprecision_score(y_test, gnb_pred, average='weighted'))\n",
        "print(\"Recall of Gaussian Naive Bayes: \",\n",
        "\trecall_score(y_test, gnb_pred, average='weighted'))\n",
        "print(\"F1-Score of Gaussian Naive Bayes: \",\n",
        "\tf1_score(y_test, gnb_pred, average='weighted'))\n",
        "\n",
        "# DECISION TREE CLASSIFIER\n",
        "dt = DecisionTreeClassifier(random_state=0)\n",
        "# train the model\n",
        "dt.fit(X_train, y_train)\n",
        "# make predictions\n",
        "dt_pred = dt.predict(X_test)\n",
        "# print the accuracy\n",
        "print(\"Accuracy of Decision Tree Classifier: \",\n",
        "\taccuracy_score(y_test, dt_pred))\n",
        "# print other performance metrics\n",
        "print(\"Precision of Decision Tree Classifier: \",\n",
        "\tprecision_score(y_test, dt_pred, average='weighted'))\n",
        "print(\"Recall of Decision Tree Classifier: \",\n",
        "\trecall_score(y_test, dt_pred, average='weighted'))\n",
        "print(\"F1-Score of Decision Tree Classifier: \",\n",
        "\tf1_score(y_test, dt_pred, average='weighted'))\n",
        "\n",
        "# SUPPORT VECTOR MACHINE\n",
        "svm_clf = svm.SVC(kernel='linear') # Linear Kernel\n",
        "# train the model\n",
        "svm_clf.fit(X_train, y_train)\n",
        "# make predictions\n",
        "svm_clf_pred = svm_clf.predict(X_test)\n",
        "# print the accuracy\n",
        "print(\"Accuracy of Support Vector Machine: \",\n",
        "\taccuracy_score(y_test, svm_clf_pred))\n",
        "# print other performance metrics\n",
        "print(\"Precision of Support Vector Machine: \",\n",
        "\tprecision_score(y_test, svm_clf_pred, average='weighted'))\n",
        "print(\"Recall of Support Vector Machine: \",\n",
        "\trecall_score(y_test, svm_clf_pred, average='weighted'))\n",
        "print(\"F1-Score of Support Vector Machine: \",\n",
        "\tf1_score(y_test, svm_clf_pred, average='weighted'))\n"
      ]
    }
  ]
}